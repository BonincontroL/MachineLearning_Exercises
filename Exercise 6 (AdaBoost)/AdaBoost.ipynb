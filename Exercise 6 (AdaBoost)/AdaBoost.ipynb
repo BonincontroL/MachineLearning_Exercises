{
  "cells": [
    {
      "cell_type": "code",
      "execution_count": 1,
      "metadata": {
        "id": "SKUX6xhwu-4D"
      },
      "outputs": [],
      "source": [
        "import numpy as np\n",
        "import math\n",
        "from copy import deepcopy\n",
        "import sklearn.datasets\n",
        "from sklearn.svm import SVC"
      ]
    },
    {
      "cell_type": "markdown",
      "metadata": {
        "id": "lTrRqXycu-4G"
      },
      "source": [
        "# Dataset\n",
        "\n",
        "We import the dataset from Hastie & Tibshirani book.\n",
        "This is an artificially generated binary classification problem. Labels are in the set $\\{-1,+1\\}$."
      ]
    },
    {
      "cell_type": "code",
      "execution_count": 2,
      "metadata": {
        "id": "yCG45xsou-4H"
      },
      "outputs": [],
      "source": [
        "X,y = sklearn.datasets.make_hastie_10_2()\n",
        "\n",
        "\n",
        "# Creazione del dataset di esempio\n",
        "# Il dataset 'make_hastie_10_2()' è comunemente usato per testare metodi di boosting.\n",
        "# Contiene 10 feature per campione e una variabile target binaria (-1, +1).\n",
        "\n",
        "# Suddivisione in training set (8000 campioni) e test set (restanti campioni)\n",
        "X_train = X[:8000, :]  # Dati di addestramento\n",
        "y_train = y[:8000]  # Etichette di addestramento\n",
        "X_test = X[8000:, :]  # Dati di test\n",
        "y_test = y[8000:]  # Etichette di tes"
      ]
    },
    {
      "cell_type": "markdown",
      "metadata": {
        "id": "4GFF3ce8u-4I"
      },
      "source": [
        "# Adaboost implementation\n",
        "\n",
        "Here we implement the Adaboost algorith. We shall assume that:\n",
        "- that the problem is a binary classification problem with labels in $\\{-1, +1\\}$.\n",
        "- that the weakModel can fit a weighted sample set by means of the call `weakModel.fit(X,y,sample_weight=w)` where `w` is a vector of length $n=|X|=|y|$."
      ]
    },
    {
      "cell_type": "code",
      "execution_count": 3,
      "metadata": {
        "id": "0zeRv0cTu-4I"
      },
      "outputs": [],
      "source": [
        "class AdaBoost:\n",
        "  def __init__(self, weakModel, T):\n",
        "    self.T = T\n",
        "    self.weakModel = weakModel\n",
        "    self.classifiers = []\n",
        "    self.alphas = []\n",
        "    self.wl_errors = []\n",
        "    self.ens_errors = []\n",
        "\n",
        "  def trainWeakClassifier(self, X, y, w):\n",
        "    result = deepcopy(self.weakModel)\n",
        "    result.fit(X,y,sample_weight=w)\n",
        "    return result\n",
        "\n",
        "  def weightedError(self, y, y_, w):\n",
        "    return np.sum(w[y != y_])\n",
        "\n",
        "  def fit(self, X, y, print_step=10):\n",
        "    n = len(X)\n",
        "    w = np.ones(n) / n\n",
        "\n",
        "    ensemble_predictions = np.zeros(n)\n",
        "\n",
        "    for t in range(self.T):\n",
        "      mt = self.trainWeakClassifier(X,y,w)\n",
        "      y_ = mt.predict(X)\n",
        "      et = self.weightedError(y, y_, w)\n",
        "\n",
        "      if et >= 0.5:\n",
        "        raise ValueError(\"The weak learner error is not less than 0.5\")\n",
        "\n",
        "      at = 0.5 * math.log((1-et)/et)\n",
        "\n",
        "      self.classifiers.append(mt)\n",
        "      self.alphas.append(at)\n",
        "\n",
        "      w = w * np.exp(- at * y * y_)\n",
        "      w = w / np.sum(w)\n",
        "\n",
        "      ensemble_predictions += at * y_\n",
        "      ensemble_error = np.sum(np.sign(ensemble_predictions) != y) / n\n",
        "\n",
        "      self.wl_errors.append(et)\n",
        "      self.ens_errors.append(ensemble_error)\n",
        "\n",
        "      if t > 1 and t % print_step == 0:\n",
        "        print(f\"step: {t} et: {et:.3f} ensemble error:{ensemble_error:.3f}\")\n",
        "\n",
        "    return self\n",
        "\n",
        "  def predict(self, X):\n",
        "      predictions = np.array([cl.predict(X) for cl in self.classifiers])\n",
        "      return np.sign(np.array(self.alphas).dot(predictions))"
      ]
    },
    {
      "cell_type": "markdown",
      "metadata": {
        "id": "vGZuIO98u-4I"
      },
      "source": [
        "# Testing with an SVM"
      ]
    },
    {
      "cell_type": "markdown",
      "metadata": {
        "id": "KuNAJfb0u-4J"
      },
      "source": [
        "Let us now see how our iplementation of AdaBoost performs on the dataset we loaded above. In this experiment we want the weak learning algorithm $\\mathcal{A}$ to be good, but not too much. An SVM with a polynomial kernel of degre 3 works fine for our needs.\n",
        "\n",
        "The SVC implementation provided by sklearn does not work well when weights are normalized. The following code simply \"denormalize\" weights befor calling into SVC implementation."
      ]
    },
    {
      "cell_type": "code",
      "execution_count": 4,
      "metadata": {
        "id": "HZD6SYReu-4K"
      },
      "outputs": [],
      "source": [
        "class SVC_:\n",
        "  def __init__(self, kernel=\"rbf\", degree=\"3\"):\n",
        "      self.svc = SVC(kernel=kernel, degree=degree)\n",
        "\n",
        "  def fit(self, X,y,sample_weight=None):\n",
        "      if sample_weight is not None:\n",
        "          sample_weight = sample_weight * len(X)\n",
        "\n",
        "      self.svc.fit(X,y,sample_weight=sample_weight)\n",
        "      return self\n",
        "\n",
        "  def predict(self, X):\n",
        "      return self.svc.predict(X)"
      ]
    },
    {
      "cell_type": "code",
      "execution_count": 5,
      "metadata": {
        "colab": {
          "base_uri": "https://localhost:8080/"
        },
        "id": "prcSl3N_u-4K",
        "outputId": "1e84052c-4d87-434c-c9f8-535b0d36ccee"
      },
      "outputs": [
        {
          "name": "stdout",
          "output_type": "stream",
          "text": [
            "step: 2 et: 0.389 ensemble error:0.285\n",
            "step: 3 et: 0.420 ensemble error:0.285\n",
            "step: 4 et: 0.381 ensemble error:0.232\n",
            "step: 5 et: 0.422 ensemble error:0.232\n",
            "step: 6 et: 0.382 ensemble error:0.252\n",
            "step: 7 et: 0.424 ensemble error:0.208\n",
            "step: 8 et: 0.388 ensemble error:0.254\n",
            "step: 9 et: 0.430 ensemble error:0.200\n",
            "step: 10 et: 0.388 ensemble error:0.228\n",
            "step: 11 et: 0.435 ensemble error:0.217\n",
            "step: 12 et: 0.386 ensemble error:0.204\n",
            "step: 13 et: 0.431 ensemble error:0.204\n",
            "step: 14 et: 0.396 ensemble error:0.191\n",
            "step: 15 et: 0.439 ensemble error:0.191\n",
            "step: 16 et: 0.401 ensemble error:0.193\n",
            "step: 17 et: 0.445 ensemble error:0.181\n",
            "step: 18 et: 0.401 ensemble error:0.195\n",
            "step: 19 et: 0.446 ensemble error:0.183\n",
            "step: 20 et: 0.400 ensemble error:0.184\n",
            "step: 21 et: 0.445 ensemble error:0.178\n",
            "step: 22 et: 0.410 ensemble error:0.174\n",
            "step: 23 et: 0.457 ensemble error:0.174\n",
            "step: 24 et: 0.417 ensemble error:0.173\n",
            "step: 25 et: 0.461 ensemble error:0.167\n",
            "step: 26 et: 0.424 ensemble error:0.173\n",
            "step: 27 et: 0.464 ensemble error:0.169\n",
            "step: 28 et: 0.421 ensemble error:0.167\n",
            "step: 29 et: 0.461 ensemble error:0.166\n"
          ]
        }
      ],
      "source": [
        "weakModel = SVC_(kernel=\"poly\", degree=3)\n",
        "adaboost = AdaBoost(weakModel, 30)\n",
        "\n",
        "adaboost.fit(X,y,print_step=1)\n",
        "\n",
        "y_train_ = adaboost.predict(X_train)\n",
        "y_test_ = adaboost.predict(X_test)"
      ]
    },
    {
      "cell_type": "code",
      "execution_count": 6,
      "metadata": {
        "colab": {
          "base_uri": "https://localhost:8080/"
        },
        "id": "EmRJxahZu-4L",
        "outputId": "bbc40741-a8c6-4abf-c1f5-fd725dab06c3"
      },
      "outputs": [
        {
          "name": "stdout",
          "output_type": "stream",
          "text": [
            "test accuracy: 0.169:.3f\n",
            "train accuracy: 0.163875:.3f\n"
          ]
        }
      ],
      "source": [
        "print(f\"test accuracy: {np.sum(y_test_ != y_test)/len(y_test)}:.3f\")\n",
        "print(f\"train accuracy: {np.sum(y_train_ != y_train)/len(y_train)}:.3f\")"
      ]
    },
    {
      "cell_type": "code",
      "execution_count": 7,
      "metadata": {
        "colab": {
          "base_uri": "https://localhost:8080/",
          "height": 447
        },
        "id": "f_g8V_MS899f",
        "outputId": "782b5712-b152-4fa7-e47f-945099554d01"
      },
      "outputs": [
        {
          "name": "stderr",
          "output_type": "stream",
          "text": [
            "<>:3: SyntaxWarning: invalid escape sequence '\\e'\n",
            "<>:3: SyntaxWarning: invalid escape sequence '\\e'\n",
            "C:\\Users\\loren_16pbl1h\\AppData\\Local\\Temp\\ipykernel_18764\\2779225147.py:3: SyntaxWarning: invalid escape sequence '\\e'\n",
            "  plt.plot(adaboost.wl_errors, label=\"$\\epsilon_t$\")\n"
          ]
        },
        {
          "data": {
            "text/plain": [
              "[<matplotlib.lines.Line2D at 0x22ae28e0350>]"
            ]
          },
          "execution_count": 7,
          "metadata": {},
          "output_type": "execute_result"
        },
        {
          "data": {
            "image/png": "[encoded data removed]",
            "text/plain": [
              "<Figure size 640x480 with 1 Axes>"
            ]
          },
          "metadata": {},
          "output_type": "display_data"
        }
      ],
      "source": [
        "import matplotlib.pyplot as plt\n",
        "\n",
        "plt.plot(adaboost.wl_errors, label=\"$\\epsilon_t$\")\n",
        "plt.plot(adaboost.ens_errors, label=\"EnsError\")"
      ]
    },
    {
      "cell_type": "markdown",
      "metadata": {
        "id": "mEbLiuT5u-4L"
      },
      "source": [
        "# Testing on the weakest of the weak learners"
      ]
    },
    {
      "cell_type": "markdown",
      "metadata": {
        "id": "ESnJejn5u-4L"
      },
      "source": [
        "We now want to experiment with a VERY weak learner. The weak learner works as follows:\n",
        "\n",
        "- it creates a random linear model by generating the needed weight vector $\\mathbf{w}$ at random; each weight shall be sampled from U(-1,1);\n",
        "- it evaluates the weighted loss $\\epsilon_t$ on the given dataset and flip the linear model if $\\epsilon_t > 0.5$\n",
        "- at prediction time it predicts +1 if $\\mathbf{x} \\cdot \\mathbf{w} > 0$ it predicts -1 otherwise."
      ]
    },
    {
      "cell_type": "code",
      "execution_count": 8,
      "metadata": {
        "id": "icXWPjrNu-4L"
      },
      "outputs": [],
      "source": [
        "class RandomLinearModel:\n",
        "    def loss(self, y, y_, w):\n",
        "      return np.sum(w[y != y_])\n",
        "\n",
        "    def fit(self,X,y,sample_weight=None):\n",
        "      self.colWeight = (np.random.rand(X.shape[1])-0.5) * 2\n",
        "      y_ = self.predict(X)\n",
        "\n",
        "      if self.loss(y, y_, sample_weight) >= 0.5:\n",
        "        self.colWeight = - self.colWeight\n",
        "\n",
        "      return self\n",
        "\n",
        "\n",
        "    def predict(self,X):\n",
        "        return np.sign(X @ self.colWeight)"
      ]
    },
    {
      "cell_type": "markdown",
      "metadata": {
        "id": "NivlXaXsu-4M"
      },
      "source": [
        "Let us now learn an AdaBoost model using the RandomLinearModel weak learner printing every $K$ iterations the weighted error and the current error of the ensemble. Evaluate the training and test error of the final ensemble model."
      ]
    },
    {
      "cell_type": "code",
      "execution_count": 9,
      "metadata": {
        "colab": {
          "base_uri": "https://localhost:8080/"
        },
        "id": "PDURo7iCu-4M",
        "outputId": "f9bb53d4-9ad4-4c96-c45e-13e19bc3e563"
      },
      "outputs": [
        {
          "name": "stdout",
          "output_type": "stream",
          "text": [
            "step: 100 et: 0.499 ensemble error:0.458\n",
            "step: 200 et: 0.499 ensemble error:0.455\n",
            "step: 300 et: 0.497 ensemble error:0.446\n",
            "step: 400 et: 0.497 ensemble error:0.432\n",
            "step: 500 et: 0.498 ensemble error:0.424\n",
            "step: 600 et: 0.495 ensemble error:0.414\n",
            "step: 700 et: 0.497 ensemble error:0.415\n",
            "step: 800 et: 0.493 ensemble error:0.405\n",
            "step: 900 et: 0.494 ensemble error:0.402\n",
            "step: 1000 et: 0.496 ensemble error:0.391\n",
            "step: 1100 et: 0.494 ensemble error:0.386\n",
            "step: 1200 et: 0.499 ensemble error:0.383\n",
            "step: 1300 et: 0.498 ensemble error:0.382\n",
            "step: 1400 et: 0.499 ensemble error:0.374\n",
            "step: 1500 et: 0.499 ensemble error:0.368\n",
            "step: 1600 et: 0.498 ensemble error:0.370\n",
            "step: 1700 et: 0.497 ensemble error:0.361\n",
            "step: 1800 et: 0.493 ensemble error:0.363\n",
            "step: 1900 et: 0.500 ensemble error:0.360\n",
            "step: 2000 et: 0.499 ensemble error:0.361\n",
            "step: 2100 et: 0.494 ensemble error:0.353\n",
            "step: 2200 et: 0.499 ensemble error:0.346\n",
            "step: 2300 et: 0.493 ensemble error:0.349\n",
            "step: 2400 et: 0.496 ensemble error:0.345\n",
            "step: 2500 et: 0.499 ensemble error:0.344\n",
            "step: 2600 et: 0.500 ensemble error:0.341\n",
            "step: 2700 et: 0.495 ensemble error:0.336\n",
            "step: 2800 et: 0.499 ensemble error:0.337\n",
            "step: 2900 et: 0.493 ensemble error:0.331\n",
            "step: 3000 et: 0.497 ensemble error:0.325\n",
            "step: 3100 et: 0.496 ensemble error:0.322\n",
            "step: 3200 et: 0.498 ensemble error:0.324\n",
            "step: 3300 et: 0.497 ensemble error:0.320\n",
            "step: 3400 et: 0.498 ensemble error:0.316\n",
            "step: 3500 et: 0.500 ensemble error:0.314\n",
            "step: 3600 et: 0.498 ensemble error:0.310\n",
            "step: 3700 et: 0.499 ensemble error:0.308\n",
            "step: 3800 et: 0.498 ensemble error:0.307\n",
            "step: 3900 et: 0.499 ensemble error:0.306\n",
            "step: 4000 et: 0.498 ensemble error:0.303\n",
            "step: 4100 et: 0.497 ensemble error:0.298\n",
            "step: 4200 et: 0.497 ensemble error:0.296\n",
            "step: 4300 et: 0.496 ensemble error:0.295\n",
            "step: 4400 et: 0.495 ensemble error:0.293\n",
            "step: 4500 et: 0.496 ensemble error:0.290\n",
            "step: 4600 et: 0.499 ensemble error:0.289\n",
            "step: 4700 et: 0.497 ensemble error:0.287\n",
            "step: 4800 et: 0.498 ensemble error:0.285\n",
            "step: 4900 et: 0.496 ensemble error:0.284\n",
            "step: 5000 et: 0.498 ensemble error:0.283\n",
            "step: 5100 et: 0.497 ensemble error:0.281\n",
            "step: 5200 et: 0.500 ensemble error:0.275\n",
            "step: 5300 et: 0.500 ensemble error:0.274\n",
            "step: 5400 et: 0.497 ensemble error:0.272\n",
            "step: 5500 et: 0.498 ensemble error:0.270\n",
            "step: 5600 et: 0.498 ensemble error:0.270\n",
            "step: 5700 et: 0.496 ensemble error:0.270\n",
            "step: 5800 et: 0.496 ensemble error:0.266\n",
            "step: 5900 et: 0.499 ensemble error:0.266\n",
            "step: 6000 et: 0.495 ensemble error:0.264\n",
            "step: 6100 et: 0.500 ensemble error:0.259\n",
            "step: 6200 et: 0.499 ensemble error:0.260\n",
            "step: 6300 et: 0.493 ensemble error:0.259\n",
            "step: 6400 et: 0.499 ensemble error:0.255\n",
            "step: 6500 et: 0.499 ensemble error:0.255\n",
            "step: 6600 et: 0.499 ensemble error:0.255\n",
            "step: 6700 et: 0.500 ensemble error:0.251\n",
            "step: 6800 et: 0.500 ensemble error:0.248\n",
            "step: 6900 et: 0.497 ensemble error:0.248\n",
            "step: 7000 et: 0.498 ensemble error:0.246\n",
            "step: 7100 et: 0.496 ensemble error:0.243\n",
            "step: 7200 et: 0.499 ensemble error:0.241\n",
            "step: 7300 et: 0.499 ensemble error:0.234\n",
            "step: 7400 et: 0.496 ensemble error:0.234\n",
            "step: 7500 et: 0.498 ensemble error:0.228\n",
            "step: 7600 et: 0.499 ensemble error:0.227\n",
            "step: 7700 et: 0.497 ensemble error:0.228\n",
            "step: 7800 et: 0.496 ensemble error:0.227\n",
            "step: 7900 et: 0.497 ensemble error:0.222\n",
            "step: 8000 et: 0.496 ensemble error:0.221\n",
            "step: 8100 et: 0.500 ensemble error:0.220\n",
            "step: 8200 et: 0.494 ensemble error:0.220\n",
            "step: 8300 et: 0.498 ensemble error:0.217\n",
            "step: 8400 et: 0.496 ensemble error:0.215\n",
            "step: 8500 et: 0.499 ensemble error:0.215\n",
            "step: 8600 et: 0.493 ensemble error:0.214\n",
            "step: 8700 et: 0.492 ensemble error:0.212\n",
            "step: 8800 et: 0.498 ensemble error:0.210\n",
            "step: 8900 et: 0.500 ensemble error:0.212\n",
            "step: 9000 et: 0.498 ensemble error:0.211\n",
            "step: 9100 et: 0.498 ensemble error:0.208\n",
            "step: 9200 et: 0.497 ensemble error:0.207\n",
            "step: 9300 et: 0.497 ensemble error:0.206\n",
            "step: 9400 et: 0.498 ensemble error:0.204\n",
            "step: 9500 et: 0.494 ensemble error:0.205\n",
            "step: 9600 et: 0.497 ensemble error:0.203\n",
            "step: 9700 et: 0.495 ensemble error:0.200\n",
            "step: 9800 et: 0.493 ensemble error:0.198\n",
            "step: 9900 et: 0.498 ensemble error:0.195\n",
            "step: 10000 et: 0.497 ensemble error:0.195\n",
            "step: 10100 et: 0.499 ensemble error:0.194\n",
            "step: 10200 et: 0.497 ensemble error:0.191\n",
            "step: 10300 et: 0.497 ensemble error:0.189\n",
            "step: 10400 et: 0.499 ensemble error:0.191\n",
            "step: 10500 et: 0.500 ensemble error:0.189\n",
            "step: 10600 et: 0.499 ensemble error:0.188\n",
            "step: 10700 et: 0.499 ensemble error:0.186\n",
            "step: 10800 et: 0.494 ensemble error:0.187\n",
            "step: 10900 et: 0.500 ensemble error:0.187\n",
            "step: 11000 et: 0.495 ensemble error:0.186\n",
            "step: 11100 et: 0.495 ensemble error:0.182\n",
            "step: 11200 et: 0.498 ensemble error:0.181\n",
            "step: 11300 et: 0.498 ensemble error:0.180\n",
            "step: 11400 et: 0.499 ensemble error:0.176\n",
            "step: 11500 et: 0.495 ensemble error:0.176\n",
            "step: 11600 et: 0.490 ensemble error:0.175\n",
            "step: 11700 et: 0.498 ensemble error:0.172\n",
            "step: 11800 et: 0.499 ensemble error:0.172\n",
            "step: 11900 et: 0.497 ensemble error:0.170\n",
            "step: 12000 et: 0.495 ensemble error:0.165\n",
            "step: 12100 et: 0.500 ensemble error:0.164\n",
            "step: 12200 et: 0.500 ensemble error:0.163\n",
            "step: 12300 et: 0.496 ensemble error:0.162\n",
            "step: 12400 et: 0.499 ensemble error:0.161\n",
            "step: 12500 et: 0.498 ensemble error:0.162\n",
            "step: 12600 et: 0.498 ensemble error:0.164\n",
            "step: 12700 et: 0.499 ensemble error:0.162\n",
            "step: 12800 et: 0.496 ensemble error:0.162\n",
            "step: 12900 et: 0.498 ensemble error:0.162\n",
            "step: 13000 et: 0.498 ensemble error:0.160\n",
            "step: 13100 et: 0.497 ensemble error:0.162\n",
            "step: 13200 et: 0.498 ensemble error:0.159\n",
            "step: 13300 et: 0.496 ensemble error:0.157\n",
            "step: 13400 et: 0.498 ensemble error:0.153\n",
            "step: 13500 et: 0.499 ensemble error:0.154\n",
            "step: 13600 et: 0.499 ensemble error:0.154\n",
            "step: 13700 et: 0.495 ensemble error:0.153\n",
            "step: 13800 et: 0.500 ensemble error:0.150\n",
            "step: 13900 et: 0.500 ensemble error:0.149\n",
            "step: 14000 et: 0.496 ensemble error:0.149\n",
            "step: 14100 et: 0.498 ensemble error:0.148\n",
            "step: 14200 et: 0.496 ensemble error:0.147\n",
            "step: 14300 et: 0.497 ensemble error:0.144\n",
            "step: 14400 et: 0.499 ensemble error:0.144\n",
            "step: 14500 et: 0.499 ensemble error:0.144\n",
            "step: 14600 et: 0.493 ensemble error:0.140\n",
            "step: 14700 et: 0.498 ensemble error:0.140\n",
            "step: 14800 et: 0.496 ensemble error:0.140\n",
            "step: 14900 et: 0.499 ensemble error:0.138\n",
            "step: 15000 et: 0.495 ensemble error:0.134\n",
            "step: 15100 et: 0.494 ensemble error:0.137\n",
            "step: 15200 et: 0.500 ensemble error:0.133\n",
            "step: 15300 et: 0.498 ensemble error:0.135\n",
            "step: 15400 et: 0.497 ensemble error:0.131\n",
            "step: 15500 et: 0.498 ensemble error:0.131\n",
            "step: 15600 et: 0.499 ensemble error:0.131\n",
            "step: 15700 et: 0.496 ensemble error:0.132\n",
            "step: 15800 et: 0.498 ensemble error:0.130\n",
            "step: 15900 et: 0.498 ensemble error:0.127\n",
            "step: 16000 et: 0.499 ensemble error:0.127\n",
            "step: 16100 et: 0.495 ensemble error:0.125\n",
            "step: 16200 et: 0.492 ensemble error:0.126\n",
            "step: 16300 et: 0.495 ensemble error:0.122\n",
            "step: 16400 et: 0.499 ensemble error:0.121\n",
            "step: 16500 et: 0.498 ensemble error:0.119\n",
            "step: 16600 et: 0.493 ensemble error:0.122\n",
            "step: 16700 et: 0.499 ensemble error:0.118\n",
            "step: 16800 et: 0.499 ensemble error:0.119\n",
            "step: 16900 et: 0.498 ensemble error:0.118\n",
            "step: 17000 et: 0.499 ensemble error:0.118\n",
            "step: 17100 et: 0.494 ensemble error:0.117\n",
            "step: 17200 et: 0.497 ensemble error:0.115\n",
            "step: 17300 et: 0.500 ensemble error:0.117\n",
            "step: 17400 et: 0.500 ensemble error:0.116\n",
            "step: 17500 et: 0.497 ensemble error:0.116\n",
            "step: 17600 et: 0.497 ensemble error:0.114\n",
            "step: 17700 et: 0.498 ensemble error:0.116\n",
            "step: 17800 et: 0.496 ensemble error:0.112\n",
            "step: 17900 et: 0.499 ensemble error:0.110\n",
            "step: 18000 et: 0.495 ensemble error:0.111\n",
            "step: 18100 et: 0.499 ensemble error:0.109\n",
            "step: 18200 et: 0.494 ensemble error:0.107\n",
            "step: 18300 et: 0.494 ensemble error:0.107\n",
            "step: 18400 et: 0.496 ensemble error:0.107\n",
            "step: 18500 et: 0.497 ensemble error:0.105\n",
            "step: 18600 et: 0.500 ensemble error:0.103\n",
            "step: 18700 et: 0.498 ensemble error:0.104\n",
            "step: 18800 et: 0.498 ensemble error:0.103\n",
            "step: 18900 et: 0.493 ensemble error:0.102\n",
            "step: 19000 et: 0.491 ensemble error:0.099\n",
            "step: 19100 et: 0.499 ensemble error:0.099\n",
            "step: 19200 et: 0.500 ensemble error:0.096\n",
            "step: 19300 et: 0.499 ensemble error:0.099\n",
            "step: 19400 et: 0.496 ensemble error:0.097\n",
            "step: 19500 et: 0.500 ensemble error:0.095\n",
            "step: 19600 et: 0.497 ensemble error:0.096\n",
            "step: 19700 et: 0.499 ensemble error:0.094\n",
            "step: 19800 et: 0.500 ensemble error:0.093\n",
            "step: 19900 et: 0.500 ensemble error:0.091\n",
            "step: 20000 et: 0.495 ensemble error:0.091\n",
            "step: 20100 et: 0.497 ensemble error:0.090\n",
            "step: 20200 et: 0.496 ensemble error:0.088\n",
            "step: 20300 et: 0.499 ensemble error:0.087\n",
            "step: 20400 et: 0.498 ensemble error:0.088\n",
            "step: 20500 et: 0.495 ensemble error:0.086\n",
            "step: 20600 et: 0.500 ensemble error:0.084\n",
            "step: 20700 et: 0.498 ensemble error:0.083\n",
            "step: 20800 et: 0.500 ensemble error:0.084\n",
            "step: 20900 et: 0.497 ensemble error:0.083\n",
            "step: 21000 et: 0.499 ensemble error:0.084\n",
            "step: 21100 et: 0.491 ensemble error:0.086\n",
            "step: 21200 et: 0.500 ensemble error:0.083\n",
            "step: 21300 et: 0.498 ensemble error:0.085\n",
            "step: 21400 et: 0.496 ensemble error:0.083\n",
            "step: 21500 et: 0.500 ensemble error:0.082\n",
            "step: 21600 et: 0.497 ensemble error:0.084\n",
            "step: 21700 et: 0.500 ensemble error:0.080\n",
            "step: 21800 et: 0.494 ensemble error:0.080\n",
            "step: 21900 et: 0.497 ensemble error:0.078\n",
            "step: 22000 et: 0.498 ensemble error:0.078\n",
            "step: 22100 et: 0.499 ensemble error:0.077\n",
            "step: 22200 et: 0.497 ensemble error:0.076\n",
            "step: 22300 et: 0.498 ensemble error:0.077\n",
            "step: 22400 et: 0.499 ensemble error:0.077\n",
            "step: 22500 et: 0.497 ensemble error:0.074\n",
            "step: 22600 et: 0.497 ensemble error:0.074\n",
            "step: 22700 et: 0.498 ensemble error:0.072\n",
            "step: 22800 et: 0.494 ensemble error:0.071\n",
            "step: 22900 et: 0.497 ensemble error:0.071\n",
            "step: 23000 et: 0.498 ensemble error:0.072\n",
            "step: 23100 et: 0.499 ensemble error:0.070\n",
            "step: 23200 et: 0.496 ensemble error:0.068\n",
            "step: 23300 et: 0.492 ensemble error:0.070\n",
            "step: 23400 et: 0.500 ensemble error:0.068\n",
            "step: 23500 et: 0.500 ensemble error:0.069\n",
            "step: 23600 et: 0.499 ensemble error:0.069\n",
            "step: 23700 et: 0.498 ensemble error:0.069\n",
            "step: 23800 et: 0.496 ensemble error:0.068\n",
            "step: 23900 et: 0.495 ensemble error:0.067\n",
            "step: 24000 et: 0.498 ensemble error:0.067\n",
            "step: 24100 et: 0.496 ensemble error:0.066\n",
            "step: 24200 et: 0.498 ensemble error:0.067\n",
            "step: 24300 et: 0.499 ensemble error:0.066\n",
            "step: 24400 et: 0.496 ensemble error:0.064\n",
            "step: 24500 et: 0.497 ensemble error:0.064\n",
            "step: 24600 et: 0.497 ensemble error:0.064\n",
            "step: 24700 et: 0.498 ensemble error:0.064\n",
            "step: 24800 et: 0.499 ensemble error:0.062\n",
            "step: 24900 et: 0.500 ensemble error:0.062\n",
            "step: 25000 et: 0.493 ensemble error:0.062\n",
            "step: 25100 et: 0.498 ensemble error:0.061\n",
            "step: 25200 et: 0.498 ensemble error:0.060\n",
            "step: 25300 et: 0.499 ensemble error:0.061\n",
            "step: 25400 et: 0.500 ensemble error:0.059\n",
            "step: 25500 et: 0.497 ensemble error:0.057\n",
            "step: 25600 et: 0.495 ensemble error:0.057\n",
            "step: 25700 et: 0.495 ensemble error:0.058\n",
            "step: 25800 et: 0.499 ensemble error:0.058\n",
            "step: 25900 et: 0.499 ensemble error:0.056\n",
            "step: 26000 et: 0.497 ensemble error:0.055\n",
            "step: 26100 et: 0.497 ensemble error:0.056\n",
            "step: 26200 et: 0.500 ensemble error:0.053\n",
            "step: 26300 et: 0.499 ensemble error:0.053\n",
            "step: 26400 et: 0.499 ensemble error:0.053\n",
            "step: 26500 et: 0.495 ensemble error:0.052\n",
            "step: 26600 et: 0.499 ensemble error:0.052\n",
            "step: 26700 et: 0.499 ensemble error:0.051\n",
            "step: 26800 et: 0.498 ensemble error:0.049\n",
            "step: 26900 et: 0.495 ensemble error:0.048\n",
            "step: 27000 et: 0.493 ensemble error:0.049\n",
            "step: 27100 et: 0.500 ensemble error:0.049\n",
            "step: 27200 et: 0.498 ensemble error:0.046\n",
            "step: 27300 et: 0.499 ensemble error:0.047\n",
            "step: 27400 et: 0.495 ensemble error:0.046\n",
            "step: 27500 et: 0.496 ensemble error:0.046\n",
            "step: 27600 et: 0.497 ensemble error:0.046\n",
            "step: 27700 et: 0.493 ensemble error:0.046\n",
            "step: 27800 et: 0.497 ensemble error:0.045\n",
            "step: 27900 et: 0.499 ensemble error:0.044\n",
            "step: 28000 et: 0.499 ensemble error:0.044\n",
            "step: 28100 et: 0.496 ensemble error:0.043\n",
            "step: 28200 et: 0.498 ensemble error:0.043\n",
            "step: 28300 et: 0.497 ensemble error:0.042\n",
            "step: 28400 et: 0.499 ensemble error:0.041\n",
            "step: 28500 et: 0.497 ensemble error:0.040\n",
            "step: 28600 et: 0.498 ensemble error:0.039\n",
            "step: 28700 et: 0.496 ensemble error:0.039\n",
            "step: 28800 et: 0.493 ensemble error:0.037\n",
            "step: 28900 et: 0.500 ensemble error:0.038\n",
            "step: 29000 et: 0.500 ensemble error:0.037\n",
            "step: 29100 et: 0.499 ensemble error:0.037\n",
            "step: 29200 et: 0.498 ensemble error:0.035\n",
            "step: 29300 et: 0.498 ensemble error:0.036\n",
            "step: 29400 et: 0.499 ensemble error:0.036\n",
            "step: 29500 et: 0.498 ensemble error:0.034\n",
            "step: 29600 et: 0.497 ensemble error:0.034\n",
            "step: 29700 et: 0.497 ensemble error:0.032\n",
            "step: 29800 et: 0.499 ensemble error:0.032\n",
            "step: 29900 et: 0.497 ensemble error:0.033\n"
          ]
        },
        {
          "data": {
            "text/plain": [
              "<__main__.AdaBoost at 0x22ae2415eb0>"
            ]
          },
          "execution_count": 9,
          "metadata": {},
          "output_type": "execute_result"
        }
      ],
      "source": [
        "rs = RandomLinearModel()\n",
        "a = AdaBoost(rs,30000)\n",
        "a.fit(X_train,y_train,print_step=100)"
      ]
    },
    {
      "cell_type": "code",
      "execution_count": 10,
      "metadata": {
        "id": "k3BCmST1_9ZQ"
      },
      "outputs": [],
      "source": [
        "y_train_ = a.predict(X_train)\n",
        "y_test_ = a.predict(X_test)"
      ]
    },
    {
      "cell_type": "code",
      "execution_count": 11,
      "metadata": {
        "colab": {
          "base_uri": "https://localhost:8080/"
        },
        "id": "heVH-BIrARKY",
        "outputId": "965e9d8e-4c5d-47ed-8132-c7fbd6de33e2"
      },
      "outputs": [
        {
          "data": {
            "text/plain": [
              "np.float64(0.03275)"
            ]
          },
          "execution_count": 11,
          "metadata": {},
          "output_type": "execute_result"
        }
      ],
      "source": [
        "np.sum(y_train_ != y_train)/len(y_train)"
      ]
    },
    {
      "cell_type": "code",
      "execution_count": 12,
      "metadata": {
        "colab": {
          "base_uri": "https://localhost:8080/"
        },
        "id": "dTPNyt-OAWQ_",
        "outputId": "000f3625-6eda-4f2a-94f1-3ef15f9e5f44"
      },
      "outputs": [
        {
          "data": {
            "text/plain": [
              "np.float64(0.49175)"
            ]
          },
          "execution_count": 12,
          "metadata": {},
          "output_type": "execute_result"
        }
      ],
      "source": [
        "np.sum(y_test_ != y_test)/len(y_test)"
      ]
    },
    {
      "cell_type": "code",
      "execution_count": 13,
      "metadata": {
        "colab": {
          "base_uri": "https://localhost:8080/",
          "height": 447
        },
        "id": "ZYIdjc3fAoOb",
        "outputId": "8f60ef2f-33ef-4dfd-a5dd-91f3e110a297"
      },
      "outputs": [
        {
          "name": "stderr",
          "output_type": "stream",
          "text": [
            "<>:1: SyntaxWarning: invalid escape sequence '\\e'\n",
            "<>:1: SyntaxWarning: invalid escape sequence '\\e'\n",
            "C:\\Users\\loren_16pbl1h\\AppData\\Local\\Temp\\ipykernel_18764\\3595132436.py:1: SyntaxWarning: invalid escape sequence '\\e'\n",
            "  plt.plot(a.wl_errors, label=\"$\\epsilon_t$\")\n"
          ]
        },
        {
          "data": {
            "text/plain": [
              "<matplotlib.legend.Legend at 0x22ae30816a0>"
            ]
          },
          "execution_count": 13,
          "metadata": {},
          "output_type": "execute_result"
        },
        {
          "data": {
            "image/png": "[encoded data removed]",
            "text/plain": [
              "<Figure size 640x480 with 1 Axes>"
            ]
          },
          "metadata": {},
          "output_type": "display_data"
        }
      ],
      "source": [
        "plt.plot(a.wl_errors, label=\"$\\epsilon_t$\")\n",
        "plt.plot(a.ens_errors, label=\"EnsError\")\n",
        "plt.legend()"
      ]
    }
  ],
  "metadata": {
    "anaconda-cloud": {},
    "colab": {
      "provenance": []
    },
    "kernelspec": {
      "display_name": "Python 3",
      "language": "python",
      "name": "python3"
    },
    "language_info": {
      "codemirror_mode": {
        "name": "ipython",
        "version": 3
      },
      "file_extension": ".py",
      "mimetype": "text/x-python",
      "name": "python",
      "nbconvert_exporter": "python",
      "pygments_lexer": "ipython3",
      "version": "3.12.8"
    }
  },
  "nbformat": 4,
  "nbformat_minor": 0
}
